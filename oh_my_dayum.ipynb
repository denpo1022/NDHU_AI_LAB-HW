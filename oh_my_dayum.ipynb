{
 "cells": [
  {
   "cell_type": "markdown",
   "metadata": {},
   "source": [
    "# 資料預處理"
   ]
  },
  {
   "cell_type": "code",
   "execution_count": 1,
   "metadata": {
    "scrolled": true
   },
   "outputs": [
    {
     "name": "stderr",
     "output_type": "stream",
     "text": [
      "Using TensorFlow backend.\n"
     ]
    }
   ],
   "source": [
    "from keras.utils import np_utils\n",
    "import numpy as np\n",
    "np.random.seed(10)"
   ]
  },
  {
   "cell_type": "code",
   "execution_count": 2,
   "metadata": {},
   "outputs": [],
   "source": [
    "import csv\n",
    "with open('fashion-mnist_train.csv', newline='') as trainfile:\n",
    "    rows = csv.reader(trainfile)\n",
    "    headers = next(rows)\n",
    "    x = []\n",
    "    y = []\n",
    "    for row in rows:\n",
    "        x.append(row[1:])\n",
    "        y.append(row[0])\n",
    "    x_train_image = np.array(x, dtype=np.float)\n",
    "    y_train_label = np.array(y)"
   ]
  },
  {
   "cell_type": "code",
   "execution_count": 3,
   "metadata": {},
   "outputs": [],
   "source": [
    "with open('test_data.csv', newline='') as testfile:\n",
    "    rows = csv.reader(testfile)\n",
    "    headers = next(rows)\n",
    "    x = []\n",
    "    for row in rows:\n",
    "        x.append(row)\n",
    "    x_test_image = np.array(x, dtype=np.float)"
   ]
  },
  {
   "cell_type": "code",
   "execution_count": 4,
   "metadata": {},
   "outputs": [],
   "source": [
    "x_Train = x_train_image.reshape(60000, 784).astype('float32')\n",
    "x_Test = x_test_image.reshape(10000, 784).astype('float32')"
   ]
  },
  {
   "cell_type": "code",
   "execution_count": 5,
   "metadata": {},
   "outputs": [],
   "source": [
    "x_Train_normalize = x_Train / 255\n",
    "x_Test_normalize = x_Test / 255"
   ]
  },
  {
   "cell_type": "code",
   "execution_count": 6,
   "metadata": {},
   "outputs": [],
   "source": [
    "y_Train_OneHot = np_utils.to_categorical(y_train_label)\n",
    "# y_Test_OneHot = np_utils.to_categorical(y_test_label)"
   ]
  },
  {
   "cell_type": "markdown",
   "metadata": {
    "collapsed": true
   },
   "source": [
    "# 建立模型"
   ]
  },
  {
   "cell_type": "code",
   "execution_count": 7,
   "metadata": {},
   "outputs": [],
   "source": [
    "from keras.models import Sequential\n",
    "from keras.layers import Dense, Dropout\n",
    "from keras.optimizers import RMSprop"
   ]
  },
  {
   "cell_type": "code",
   "execution_count": 8,
   "metadata": {},
   "outputs": [],
   "source": [
    "model = Sequential()"
   ]
  },
  {
   "cell_type": "code",
   "execution_count": 9,
   "metadata": {},
   "outputs": [],
   "source": [
    "model.add(Dense(units=2000, \n",
    "                input_dim=784, \n",
    "                kernel_initializer='normal', \n",
    "                activation='relu'))"
   ]
  },
  {
   "cell_type": "code",
   "execution_count": 10,
   "metadata": {},
   "outputs": [],
   "source": [
    "model.add(Dropout(0.2))"
   ]
  },
  {
   "cell_type": "code",
   "execution_count": 11,
   "metadata": {},
   "outputs": [],
   "source": [
    "model.add(Dense(units=2000, \n",
    "                kernel_initializer='normal', \n",
    "                activation='relu'))"
   ]
  },
  {
   "cell_type": "code",
   "execution_count": 12,
   "metadata": {},
   "outputs": [],
   "source": [
    "model.add(Dropout(0.2))"
   ]
  },
  {
   "cell_type": "code",
   "execution_count": 13,
   "metadata": {},
   "outputs": [],
   "source": [
    "model.add(Dense(units=10, \n",
    "                kernel_initializer='normal', \n",
    "                activation='softmax'))"
   ]
  },
  {
   "cell_type": "code",
   "execution_count": 14,
   "metadata": {},
   "outputs": [
    {
     "name": "stdout",
     "output_type": "stream",
     "text": [
      "_________________________________________________________________\n",
      "Layer (type)                 Output Shape              Param #   \n",
      "=================================================================\n",
      "dense_1 (Dense)              (None, 1000)              785000    \n",
      "_________________________________________________________________\n",
      "dropout_1 (Dropout)          (None, 1000)              0         \n",
      "_________________________________________________________________\n",
      "dense_2 (Dense)              (None, 1000)              1001000   \n",
      "_________________________________________________________________\n",
      "dropout_2 (Dropout)          (None, 1000)              0         \n",
      "_________________________________________________________________\n",
      "dense_3 (Dense)              (None, 10)                10010     \n",
      "=================================================================\n",
      "Total params: 1,796,010\n",
      "Trainable params: 1,796,010\n",
      "Non-trainable params: 0\n",
      "_________________________________________________________________\n",
      "None\n"
     ]
    }
   ],
   "source": [
    "print(model.summary())"
   ]
  },
  {
   "cell_type": "markdown",
   "metadata": {},
   "source": [
    "# 訓練模型"
   ]
  },
  {
   "cell_type": "code",
   "execution_count": 15,
   "metadata": {},
   "outputs": [],
   "source": [
    "model.compile(loss='categorical_crossentropy', \n",
    "              optimizer=RMSprop(), metrics=['accuracy'])"
   ]
  },
  {
   "cell_type": "code",
   "execution_count": 16,
   "metadata": {},
   "outputs": [
    {
     "name": "stdout",
     "output_type": "stream",
     "text": [
      "Train on 48000 samples, validate on 12000 samples\n",
      "Epoch 1/20\n",
      " - 3s - loss: 0.8209 - acc: 0.7281 - val_loss: 0.5501 - val_acc: 0.7819\n",
      "Epoch 2/20\n",
      " - 1s - loss: 0.5074 - acc: 0.8156 - val_loss: 0.4934 - val_acc: 0.8109\n",
      "Epoch 3/20\n",
      " - 1s - loss: 0.4409 - acc: 0.8373 - val_loss: 0.4510 - val_acc: 0.8347\n",
      "Epoch 4/20\n",
      " - 1s - loss: 0.4065 - acc: 0.8475 - val_loss: 0.3648 - val_acc: 0.8669\n",
      "Epoch 5/20\n",
      " - 1s - loss: 0.3790 - acc: 0.8585 - val_loss: 0.3750 - val_acc: 0.8673\n",
      "Epoch 6/20\n",
      " - 1s - loss: 0.3658 - acc: 0.8639 - val_loss: 0.3491 - val_acc: 0.8780\n",
      "Epoch 7/20\n",
      " - 1s - loss: 0.3474 - acc: 0.8693 - val_loss: 0.3846 - val_acc: 0.8656\n",
      "Epoch 8/20\n",
      " - 1s - loss: 0.3369 - acc: 0.8741 - val_loss: 0.3503 - val_acc: 0.8755\n",
      "Epoch 9/20\n",
      " - 1s - loss: 0.3284 - acc: 0.8768 - val_loss: 0.3393 - val_acc: 0.8797\n",
      "Epoch 10/20\n",
      " - 1s - loss: 0.3169 - acc: 0.8819 - val_loss: 0.3389 - val_acc: 0.8802\n",
      "Epoch 11/20\n",
      " - 1s - loss: 0.3104 - acc: 0.8839 - val_loss: 0.3546 - val_acc: 0.8792\n",
      "Epoch 12/20\n",
      " - 1s - loss: 0.2991 - acc: 0.8887 - val_loss: 0.3234 - val_acc: 0.8917\n",
      "Epoch 13/20\n",
      " - 1s - loss: 0.2963 - acc: 0.8903 - val_loss: 0.3403 - val_acc: 0.8837\n",
      "Epoch 14/20\n",
      " - 1s - loss: 0.2906 - acc: 0.8913 - val_loss: 0.3374 - val_acc: 0.8773\n",
      "Epoch 15/20\n",
      " - 1s - loss: 0.2835 - acc: 0.8950 - val_loss: 0.3477 - val_acc: 0.8806\n",
      "Epoch 16/20\n",
      " - 1s - loss: 0.2785 - acc: 0.8962 - val_loss: 0.3417 - val_acc: 0.8918\n",
      "Epoch 17/20\n",
      " - 1s - loss: 0.2712 - acc: 0.8983 - val_loss: 0.3413 - val_acc: 0.8901\n",
      "Epoch 18/20\n",
      " - 1s - loss: 0.2671 - acc: 0.8998 - val_loss: 0.3235 - val_acc: 0.8891\n",
      "Epoch 19/20\n",
      " - 1s - loss: 0.2649 - acc: 0.9004 - val_loss: 0.3462 - val_acc: 0.8838\n",
      "Epoch 20/20\n",
      " - 1s - loss: 0.2599 - acc: 0.9030 - val_loss: 0.3197 - val_acc: 0.8961\n"
     ]
    }
   ],
   "source": [
    "train_history = model.fit(x=x_Train_normalize,\n",
    "                         y=y_Train_OneHot,validation_split=0.2, \n",
    "                         epochs=20, batch_size=500,verbose=2)"
   ]
  },
  {
   "cell_type": "code",
   "execution_count": 17,
   "metadata": {},
   "outputs": [
    {
     "name": "stdout",
     "output_type": "stream",
     "text": [
      "[0 1 2 ... 8 8 1]\n"
     ]
    }
   ],
   "source": [
    "prediction = model.predict_classes(x_Test)\n",
    "print(prediction)\n",
    "with open('output.csv', 'w', newline='') as csvfile:\n",
    "    writer = csv.writer(csvfile)\n",
    "    writer.writerow(['Id', 'label'])\n",
    "    for i in range (10000):\n",
    "        writer.writerow([i+1, prediction[i]])"
   ]
  },
  {
   "cell_type": "code",
   "execution_count": null,
   "metadata": {},
   "outputs": [],
   "source": []
  }
 ],
 "metadata": {
  "anaconda-cloud": {},
  "kernelspec": {
   "display_name": "Python 3",
   "language": "python",
   "name": "python3"
  },
  "language_info": {
   "codemirror_mode": {
    "name": "ipython",
    "version": 3
   },
   "file_extension": ".py",
   "mimetype": "text/x-python",
   "name": "python",
   "nbconvert_exporter": "python",
   "pygments_lexer": "ipython3",
   "version": "3.6.6"
  }
 },
 "nbformat": 4,
 "nbformat_minor": 1
}
